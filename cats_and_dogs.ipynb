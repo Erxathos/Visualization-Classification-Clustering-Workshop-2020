{
 "cells": [
  {
   "cell_type": "markdown",
   "metadata": {},
   "source": [
    "## Data loading"
   ]
  },
  {
   "cell_type": "code",
   "execution_count": 1,
   "metadata": {},
   "outputs": [
    {
     "name": "stdout",
     "output_type": "stream",
     "text": [
      "Data loaded. The shape is (160, 4096)\n"
     ]
    }
   ],
   "source": [
    "import numpy as np\n",
    "from numpy import genfromtxt\n",
    "from sklearn.model_selection import train_test_split\n",
    "import matplotlib.pyplot as plt\n",
    "\n",
    "# Visualize transformed data with interactive scatter plot (2D or 3D)\n",
    "# color_l - labels for color, title - plot title, axes_labels - axes labels\n",
    "def ShowScatterPlot(data, color_l, title, axes_labels):\n",
    "    # Handle pick events\n",
    "    def show_on_click(event):\n",
    "        ind = event.ind #indices of a pick event\n",
    "        for i in ind:\n",
    "            show_pet(i)\n",
    "    \n",
    "    # 2D scatter plot\n",
    "    def ScatterPlot2D():\n",
    "        fig = plt.figure()\n",
    "        ax = fig.add_subplot(111)\n",
    "        ax.scatter(data[:,0], data[:,1], c = color_l, picker = True)\n",
    "        ax.set_title(title)\n",
    "        ax.set_xlabel(axes_labels[0])\n",
    "        ax.set_ylabel(axes_labels[1])\n",
    "        plt.show()\n",
    "        fig.canvas.mpl_connect('pick_event', show_on_click)\n",
    "        \n",
    "     # 3D scatter plot    \n",
    "    def ScatterPlot3D():\n",
    "        from mpl_toolkits.mplot3d import Axes3D\n",
    "        fig = plt.figure()\n",
    "        ax = fig.add_subplot(111, projection='3d')\n",
    "        ax.scatter(data[:,0], data[:,1], data[:,2], c = color_l, picker = True)\n",
    "        ax.set_title(title)\n",
    "        ax.set_xlabel(axes_labels[0])\n",
    "        ax.set_ylabel(axes_labels[1])\n",
    "        ax.set_zlabel(axes_labels[2])\n",
    "        plt.show()\n",
    "        fig.canvas.mpl_connect('pick_event', show_on_click)\n",
    "    \n",
    "    # number of dimensions\n",
    "    d_num = data.shape[1]\n",
    "    \n",
    "    # decide which plot type is required\n",
    "    if d_num == 2:\n",
    "        ScatterPlot2D()\n",
    "    elif d_num == 3:\n",
    "        ScatterPlot3D()\n",
    "    else:\n",
    "        print('Inappropriate input data dimensions for 2D/3D plot')\n",
    "\n",
    "def load_data():\n",
    "    # Import the data of a CSV file into a numpy array\n",
    "    cats = genfromtxt('cat.csv', delimiter=',') # 80 cats (one in a column) each by 4096 pixels\n",
    "    dogs = genfromtxt('dog.csv', delimiter=',') # 80 dogs (one in a column) each by 4096 pixels\n",
    "\n",
    "    # Combine two arrays (cats and dogs) into one (pets)\n",
    "    pets = np.empty([160, 4096]) # empty array of size 160 x 4096\n",
    "    for m in range(80):\n",
    "        pets[m,:] = np.reshape(np.reshape(cats[:,m], (64,64), order=\"F\"), (1,4096)) # cats in the first 80 rows (one in a row)\n",
    "        pets[m+80,:] = np.reshape(np.reshape(dogs[:,m], (64,64), order=\"F\"), (1,4096)) # dogs in the other 80 rows (one in a row)\n",
    "\n",
    "    # Save true labels for the future\n",
    "    labels_true = np.concatenate((np.zeros(80), np.ones(80)), axis=0) # zeros for cats and ones for dogs\n",
    "    return pets, labels_true\n",
    "\n",
    "pets, labels_true = load_data()\n",
    "print(\"Data loaded. The shape is\", pets.shape)"
   ]
  },
  {
   "cell_type": "code",
   "execution_count": 2,
   "metadata": {},
   "outputs": [
    {
     "data": {
      "text/plain": [
       "(160, 4096)"
      ]
     },
     "execution_count": 2,
     "metadata": {},
     "output_type": "execute_result"
    }
   ],
   "source": [
    "pets.shape"
   ]
  },
  {
   "cell_type": "code",
   "execution_count": 3,
   "metadata": {},
   "outputs": [
    {
     "data": {
      "image/png": "[encoded data removed]",
      "text/plain": [
       "<Figure size 432x288 with 1 Axes>"
      ]
     },
     "metadata": {
      "needs_background": "light"
     },
     "output_type": "display_data"
    }
   ],
   "source": [
    "def show_pet(pet_index, data=pets):\n",
    "    plt.figure()\n",
    "    # reshape the input data to an image of 64x64 pixels and show it\n",
    "    plt.imshow(np.reshape(data[pet_index], (64, 64)), cmap = \"gray\")\n",
    "    plt.title('Pet '+ str(pet_index))\n",
    "    plt.show()\n",
    "\n",
    "show_pet(1, pets)"
   ]
  },
  {
   "cell_type": "markdown",
   "metadata": {},
   "source": [
    "## Applying data visualization algorithms"
   ]
  },
  {
   "cell_type": "code",
   "execution_count": 4,
   "metadata": {},
   "outputs": [
    {
     "name": "stdout",
     "output_type": "stream",
     "text": [
      "Wall time: 1.77 s\n"
     ]
    }
   ],
   "source": [
    "%%time\n",
    "# t-SNE \n",
    "from sklearn.manifold import TSNE as tsne\n",
    "tsne_data = tsne(n_components=2).fit_transform(pets) # to pets\n",
    "# PCA\n",
    "from sklearn.decomposition import IncrementalPCA\n",
    "ipca_data = IncrementalPCA(n_components=3).fit_transform(pets) # set the number of principal components"
   ]
  },
  {
   "cell_type": "code",
   "execution_count": 5,
   "metadata": {
    "scrolled": false
   },
   "outputs": [
    {
     "name": "stdout",
     "output_type": "stream",
     "text": [
      "Using matplotlib backend: Qt5Agg\n"
     ]
    }
   ],
   "source": [
    "%matplotlib\n",
    "ShowScatterPlot(tsne_data, labels_true, 't-SNE for pets', ['t-SNE dimension 1', 't-SNE dimension 2'])"
   ]
  },
  {
   "cell_type": "code",
   "execution_count": 6,
   "metadata": {
    "scrolled": false
   },
   "outputs": [],
   "source": [
    "ShowScatterPlot(ipca_data, labels_true, 'PCA for pets', ['1st component', '2nd component','3rd component'])"
   ]
  },
  {
   "cell_type": "markdown",
   "metadata": {},
   "source": [
    "## Cluster analysis"
   ]
  },
  {
   "cell_type": "code",
   "execution_count": 7,
   "metadata": {},
   "outputs": [
    {
     "name": "stdout",
     "output_type": "stream",
     "text": [
      "Done. Adjusted_rand_score = -0.0056842455024445895\n"
     ]
    }
   ],
   "source": [
    "# K-means clustering\n",
    "from sklearn.cluster import MiniBatchKMeans as KMeans\n",
    "from sklearn import metrics\n",
    "\n",
    "kmeans = KMeans(n_clusters=2, batch_size=8, n_init=1).fit(pets)\n",
    "cluster_labels = kmeans.labels_\n",
    "\n",
    "# Show the clustering metrics\n",
    "print(\"Done. Adjusted_rand_score =\", metrics.adjusted_rand_score(labels_true, cluster_labels))"
   ]
  },
  {
   "cell_type": "code",
   "execution_count": 8,
   "metadata": {},
   "outputs": [],
   "source": [
    "ShowScatterPlot(tsne_data, cluster_labels, 't-SNE for pets, cluster data', ['t-SNE dimension 1', 't-SNE dimension 2'])"
   ]
  },
  {
   "cell_type": "code",
   "execution_count": 9,
   "metadata": {},
   "outputs": [],
   "source": [
    "ShowScatterPlot(ipca_data, cluster_labels, 'PCA for pets', ['1st component', '2nd component','3rd component'])"
   ]
  },
  {
   "cell_type": "code",
   "execution_count": 10,
   "metadata": {},
   "outputs": [],
   "source": [
    "%matplotlib inline"
   ]
  },
  {
   "cell_type": "markdown",
   "metadata": {},
   "source": [
    "## Classification"
   ]
  },
  {
   "cell_type": "code",
   "execution_count": 11,
   "metadata": {},
   "outputs": [
    {
     "name": "stdout",
     "output_type": "stream",
     "text": [
      "128 32\n",
      "Gaussian Naive Bayes accuracy on\n",
      "- train data: 0.796875\n",
      "- test data: 0.8125\n",
      "tn, fp, fn, tp - True cats, False dogs, False cats, True dogs\n",
      "[12  2  4 14]\n"
     ]
    }
   ],
   "source": [
    "from sklearn.naive_bayes import GaussianNB\n",
    "from sklearn.metrics import confusion_matrix\n",
    "\n",
    "x_train, x_test, y_train, y_test = train_test_split(pets, labels_true, test_size=0.20, random_state=42)\n",
    "\n",
    "def TrainGaussianNB():\n",
    "    # data and labels for training\n",
    "    print(len(y_train), len(y_test))\n",
    "    # Gaussian Naive Bayes (GNB)\n",
    "    clf = GaussianNB()\n",
    "    clf.fit(x_train, y_train)\n",
    "    print(\"Gaussian Naive Bayes accuracy on\")\n",
    "    print(\"- train data:\", clf.score(x_train, y_train)) \n",
    "    print(\"- test data:\", clf.score(x_test, y_test)) \n",
    "    print(\"tn, fp, fn, tp - True cats, False dogs, False cats, True dogs\")\n",
    "    print(confusion_matrix(clf.predict(x_test), y_test).ravel())\n",
    "    return clf\n",
    "\n",
    "def classLabelToString(class_label):\n",
    "    return \"cat\" if class_label < 1 else \"dog\"\n",
    "\n",
    "# show an image with labels\n",
    "def show_result(pet_index, class_label, data=pets):\n",
    "    plt.figure()\n",
    "    plt.imshow(np.reshape(data[pet_index], (64, 64)), cmap = \"gray\")\n",
    "    plt.title('Test Pet '+ str(pet_index) + '. Classified: ' + classLabelToString(class_label) + ' / Real: ' + classLabelToString(y_test[pet_index]))\n",
    "    plt.show()\n",
    "\n",
    "def predict(num, model):\n",
    "    class_label = model.predict([x_test[num,:]])[0]\n",
    "    show_result(num, class_label, data=x_test)\n",
    "\n",
    "model_base = TrainGaussianNB()"
   ]
  },
  {
   "cell_type": "code",
   "execution_count": 12,
   "metadata": {},
   "outputs": [],
   "source": [
    "%matplotlib inline"
   ]
  },
  {
   "cell_type": "code",
   "execution_count": 13,
   "metadata": {},
   "outputs": [
    {
     "data": {
      "application/vnd.jupyter.widget-view+json": {
       "model_id": "6df71889c1034df5a9be27f4dd8dac7e",
       "version_major": 2,
       "version_minor": 0
      },
      "text/plain": [
       "interactive(children=(IntSlider(value=0, continuous_update=False, description='num', max=31), Output()), _dom_…"
      ]
     },
     "metadata": {},
     "output_type": "display_data"
    }
   ],
   "source": [
    "import ipywidgets as widgets\n",
    "from ipywidgets import interact, fixed\n",
    "widget = widgets.IntSlider(max=len(x_test)-1,continuous_update=False)\n",
    "w = interact(predict,num=widget, model=fixed(model_base))"
   ]
  },
  {
   "cell_type": "code",
   "execution_count": 14,
   "metadata": {},
   "outputs": [],
   "source": [
    "# Apply edge detection\n",
    "from skimage.filters import sobel\n",
    "edge_data = np.empty([160, 4096])\n",
    "for m in range(160):\n",
    "    edge_data[m,:] = np.reshape(sobel(np.reshape(pets[m,:], (64,64))), (1,4096))\n",
    "x_train, x_test, y_train, y_test = train_test_split(edge_data, labels_true, test_size=0.20, random_state=42)"
   ]
  },
  {
   "cell_type": "code",
   "execution_count": 15,
   "metadata": {},
   "outputs": [
    {
     "data": {
      "image/png": "[encoded data removed]",
      "text/plain": [
       "<Figure size 432x288 with 1 Axes>"
      ]
     },
     "metadata": {
      "needs_background": "light"
     },
     "output_type": "display_data"
    },
    {
     "data": {
      "image/png": "[encoded data removed]",
      "text/plain": [
       "<Figure size 432x288 with 1 Axes>"
      ]
     },
     "metadata": {
      "needs_background": "light"
     },
     "output_type": "display_data"
    }
   ],
   "source": [
    "show_pet(1)\n",
    "show_pet(1, data=edge_data)"
   ]
  },
  {
   "cell_type": "code",
   "execution_count": 16,
   "metadata": {
    "scrolled": true
   },
   "outputs": [
    {
     "name": "stdout",
     "output_type": "stream",
     "text": [
      "128 32\n",
      "Gaussian Naive Bayes accuracy on\n",
      "- train data: 0.921875\n",
      "- test data: 0.875\n",
      "tn, fp, fn, tp - True cats, False dogs, False cats, True dogs\n",
      "[14  2  2 14]\n"
     ]
    }
   ],
   "source": [
    "model_edge = TrainGaussianNB()"
   ]
  },
  {
   "cell_type": "code",
   "execution_count": 17,
   "metadata": {},
   "outputs": [
    {
     "data": {
      "application/vnd.jupyter.widget-view+json": {
       "model_id": "6d2c39f02b72416986470c2c48211e57",
       "version_major": 2,
       "version_minor": 0
      },
      "text/plain": [
       "interactive(children=(IntSlider(value=0, continuous_update=False, description='num', max=31), Output()), _dom_…"
      ]
     },
     "metadata": {},
     "output_type": "display_data"
    }
   ],
   "source": [
    "import ipywidgets as widgets\n",
    "from ipywidgets import interact\n",
    "\n",
    "widget = widgets.IntSlider(max=len(x_test)-1,continuous_update=False)\n",
    "w = interact(predict,num=widget, model=fixed(model_edge))"
   ]
  },
  {
   "cell_type": "code",
   "execution_count": null,
   "metadata": {},
   "outputs": [],
   "source": []
  }
 ],
 "metadata": {
  "kernelspec": {
   "display_name": "Python 3",
   "language": "python",
   "name": "python3"
  },
  "language_info": {
   "codemirror_mode": {
    "name": "ipython",
    "version": 3
   },
   "file_extension": ".py",
   "mimetype": "text/x-python",
   "name": "python",
   "nbconvert_exporter": "python",
   "pygments_lexer": "ipython3",
   "version": "3.7.1"
  }
 },
 "nbformat": 4,
 "nbformat_minor": 2
}
